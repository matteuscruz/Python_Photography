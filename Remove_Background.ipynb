{
  "nbformat": 4,
  "nbformat_minor": 0,
  "metadata": {
    "colab": {
      "provenance": []
    },
    "kernelspec": {
      "name": "python3",
      "display_name": "Python 3"
    },
    "language_info": {
      "name": "python"
    }
  },
  "cells": [
    {
      "cell_type": "code",
      "execution_count": 1,
      "metadata": {
        "colab": {
          "base_uri": "https://localhost:8080/"
        },
        "id": "jh9mzu-T9yt0",
        "outputId": "0b719b21-4353-4541-dad8-abfb7939611b"
      },
      "outputs": [
        {
          "output_type": "stream",
          "name": "stdout",
          "text": [
            "Looking in indexes: https://pypi.org/simple, https://us-python.pkg.dev/colab-wheels/public/simple/\n",
            "Requirement already satisfied: rembg in /usr/local/lib/python3.7/dist-packages (2.0.25)\n",
            "Requirement already satisfied: scikit-image==0.19.3 in /usr/local/lib/python3.7/dist-packages (from rembg) (0.19.3)\n",
            "Requirement already satisfied: fastapi==0.80.0 in /usr/local/lib/python3.7/dist-packages (from rembg) (0.80.0)\n",
            "Requirement already satisfied: python-multipart==0.0.5 in /usr/local/lib/python3.7/dist-packages (from rembg) (0.0.5)\n",
            "Requirement already satisfied: scipy==1.7.3 in /usr/local/lib/python3.7/dist-packages (from rembg) (1.7.3)\n",
            "Requirement already satisfied: pillow==9.2.0 in /usr/local/lib/python3.7/dist-packages (from rembg) (9.2.0)\n",
            "Requirement already satisfied: watchdog==2.1.9 in /usr/local/lib/python3.7/dist-packages (from rembg) (2.1.9)\n",
            "Requirement already satisfied: tqdm==4.64.0 in /usr/local/lib/python3.7/dist-packages (from rembg) (4.64.0)\n",
            "Requirement already satisfied: filetype==1.1.0 in /usr/local/lib/python3.7/dist-packages (from rembg) (1.1.0)\n",
            "Requirement already satisfied: imagehash==4.2.1 in /usr/local/lib/python3.7/dist-packages (from rembg) (4.2.1)\n",
            "Requirement already satisfied: aiohttp==3.8.1 in /usr/local/lib/python3.7/dist-packages (from rembg) (3.8.1)\n",
            "Requirement already satisfied: onnxruntime==1.12.1 in /usr/local/lib/python3.7/dist-packages (from rembg) (1.12.1)\n",
            "Requirement already satisfied: pymatting==1.1.8 in /usr/local/lib/python3.7/dist-packages (from rembg) (1.1.8)\n",
            "Requirement already satisfied: gdown==4.5.1 in /usr/local/lib/python3.7/dist-packages (from rembg) (4.5.1)\n",
            "Requirement already satisfied: click==8.1.3 in /usr/local/lib/python3.7/dist-packages (from rembg) (8.1.3)\n",
            "Requirement already satisfied: numpy==1.21.6 in /usr/local/lib/python3.7/dist-packages (from rembg) (1.21.6)\n",
            "Requirement already satisfied: opencv-python-headless==4.6.0.66 in /usr/local/lib/python3.7/dist-packages (from rembg) (4.6.0.66)\n",
            "Requirement already satisfied: uvicorn==0.18.3 in /usr/local/lib/python3.7/dist-packages (from rembg) (0.18.3)\n",
            "Requirement already satisfied: asyncer==0.0.1 in /usr/local/lib/python3.7/dist-packages (from rembg) (0.0.1)\n",
            "Requirement already satisfied: yarl<2.0,>=1.0 in /usr/local/lib/python3.7/dist-packages (from aiohttp==3.8.1->rembg) (1.8.1)\n",
            "Requirement already satisfied: async-timeout<5.0,>=4.0.0a3 in /usr/local/lib/python3.7/dist-packages (from aiohttp==3.8.1->rembg) (4.0.2)\n",
            "Requirement already satisfied: typing-extensions>=3.7.4 in /usr/local/lib/python3.7/dist-packages (from aiohttp==3.8.1->rembg) (4.1.1)\n",
            "Requirement already satisfied: aiosignal>=1.1.2 in /usr/local/lib/python3.7/dist-packages (from aiohttp==3.8.1->rembg) (1.2.0)\n",
            "Requirement already satisfied: multidict<7.0,>=4.5 in /usr/local/lib/python3.7/dist-packages (from aiohttp==3.8.1->rembg) (6.0.2)\n",
            "Requirement already satisfied: frozenlist>=1.1.1 in /usr/local/lib/python3.7/dist-packages (from aiohttp==3.8.1->rembg) (1.3.1)\n",
            "Requirement already satisfied: charset-normalizer<3.0,>=2.0 in /usr/local/lib/python3.7/dist-packages (from aiohttp==3.8.1->rembg) (2.1.1)\n",
            "Requirement already satisfied: attrs>=17.3.0 in /usr/local/lib/python3.7/dist-packages (from aiohttp==3.8.1->rembg) (22.1.0)\n",
            "Requirement already satisfied: asynctest==0.13.0 in /usr/local/lib/python3.7/dist-packages (from aiohttp==3.8.1->rembg) (0.13.0)\n",
            "Requirement already satisfied: anyio<4.0.0,>=3.4.0 in /usr/local/lib/python3.7/dist-packages (from asyncer==0.0.1->rembg) (3.6.2)\n",
            "Requirement already satisfied: importlib-metadata in /usr/local/lib/python3.7/dist-packages (from click==8.1.3->rembg) (4.13.0)\n",
            "Requirement already satisfied: pydantic!=1.7,!=1.7.1,!=1.7.2,!=1.7.3,!=1.8,!=1.8.1,<2.0.0,>=1.6.2 in /usr/local/lib/python3.7/dist-packages (from fastapi==0.80.0->rembg) (1.9.2)\n",
            "Requirement already satisfied: starlette==0.19.1 in /usr/local/lib/python3.7/dist-packages (from fastapi==0.80.0->rembg) (0.19.1)\n",
            "Requirement already satisfied: beautifulsoup4 in /usr/local/lib/python3.7/dist-packages (from gdown==4.5.1->rembg) (4.6.3)\n",
            "Requirement already satisfied: six in /usr/local/lib/python3.7/dist-packages (from gdown==4.5.1->rembg) (1.15.0)\n",
            "Requirement already satisfied: filelock in /usr/local/lib/python3.7/dist-packages (from gdown==4.5.1->rembg) (3.8.0)\n",
            "Requirement already satisfied: requests[socks] in /usr/local/lib/python3.7/dist-packages (from gdown==4.5.1->rembg) (2.23.0)\n",
            "Requirement already satisfied: PyWavelets in /usr/local/lib/python3.7/dist-packages (from imagehash==4.2.1->rembg) (1.3.0)\n",
            "Requirement already satisfied: coloredlogs in /usr/local/lib/python3.7/dist-packages (from onnxruntime==1.12.1->rembg) (15.0.1)\n",
            "Requirement already satisfied: sympy in /usr/local/lib/python3.7/dist-packages (from onnxruntime==1.12.1->rembg) (1.7.1)\n",
            "Requirement already satisfied: packaging in /usr/local/lib/python3.7/dist-packages (from onnxruntime==1.12.1->rembg) (21.3)\n",
            "Requirement already satisfied: flatbuffers in /usr/local/lib/python3.7/dist-packages (from onnxruntime==1.12.1->rembg) (1.12)\n",
            "Requirement already satisfied: protobuf in /usr/local/lib/python3.7/dist-packages (from onnxruntime==1.12.1->rembg) (3.17.3)\n",
            "Requirement already satisfied: numba!=0.49.0 in /usr/local/lib/python3.7/dist-packages (from pymatting==1.1.8->rembg) (0.56.3)\n",
            "Requirement already satisfied: imageio>=2.4.1 in /usr/local/lib/python3.7/dist-packages (from scikit-image==0.19.3->rembg) (2.9.0)\n",
            "Requirement already satisfied: tifffile>=2019.7.26 in /usr/local/lib/python3.7/dist-packages (from scikit-image==0.19.3->rembg) (2021.11.2)\n",
            "Requirement already satisfied: networkx>=2.2 in /usr/local/lib/python3.7/dist-packages (from scikit-image==0.19.3->rembg) (2.6.3)\n",
            "Requirement already satisfied: h11>=0.8 in /usr/local/lib/python3.7/dist-packages (from uvicorn==0.18.3->rembg) (0.14.0)\n",
            "Requirement already satisfied: sniffio>=1.1 in /usr/local/lib/python3.7/dist-packages (from anyio<4.0.0,>=3.4.0->asyncer==0.0.1->rembg) (1.3.0)\n",
            "Requirement already satisfied: idna>=2.8 in /usr/local/lib/python3.7/dist-packages (from anyio<4.0.0,>=3.4.0->asyncer==0.0.1->rembg) (2.10)\n",
            "Requirement already satisfied: llvmlite<0.40,>=0.39.0dev0 in /usr/local/lib/python3.7/dist-packages (from numba!=0.49.0->pymatting==1.1.8->rembg) (0.39.1)\n",
            "Requirement already satisfied: setuptools in /usr/local/lib/python3.7/dist-packages (from numba!=0.49.0->pymatting==1.1.8->rembg) (57.4.0)\n",
            "Requirement already satisfied: pyparsing!=3.0.5,>=2.0.2 in /usr/local/lib/python3.7/dist-packages (from packaging->onnxruntime==1.12.1->rembg) (3.0.9)\n",
            "Requirement already satisfied: humanfriendly>=9.1 in /usr/local/lib/python3.7/dist-packages (from coloredlogs->onnxruntime==1.12.1->rembg) (10.0)\n",
            "Requirement already satisfied: zipp>=0.5 in /usr/local/lib/python3.7/dist-packages (from importlib-metadata->click==8.1.3->rembg) (3.9.0)\n",
            "Requirement already satisfied: urllib3!=1.25.0,!=1.25.1,<1.26,>=1.21.1 in /usr/local/lib/python3.7/dist-packages (from requests[socks]->gdown==4.5.1->rembg) (1.24.3)\n",
            "Requirement already satisfied: chardet<4,>=3.0.2 in /usr/local/lib/python3.7/dist-packages (from requests[socks]->gdown==4.5.1->rembg) (3.0.4)\n",
            "Requirement already satisfied: certifi>=2017.4.17 in /usr/local/lib/python3.7/dist-packages (from requests[socks]->gdown==4.5.1->rembg) (2022.9.24)\n",
            "Requirement already satisfied: PySocks!=1.5.7,>=1.5.6 in /usr/local/lib/python3.7/dist-packages (from requests[socks]->gdown==4.5.1->rembg) (1.7.1)\n",
            "Requirement already satisfied: mpmath>=0.19 in /usr/local/lib/python3.7/dist-packages (from sympy->onnxruntime==1.12.1->rembg) (1.2.1)\n"
          ]
        }
      ],
      "source": [
        "!pip install rembg"
      ]
    },
    {
      "cell_type": "code",
      "source": [
        "from rembg import remove\n",
        "from PIL import Image"
      ],
      "metadata": {
        "id": "jCW6vFZt97j6"
      },
      "execution_count": 2,
      "outputs": []
    },
    {
      "cell_type": "code",
      "source": [
        "input_path = 'cl.jpg'\n",
        "output_path = 'output.png'"
      ],
      "metadata": {
        "id": "88fsjpJu9_O5"
      },
      "execution_count": 3,
      "outputs": []
    },
    {
      "cell_type": "code",
      "source": [
        "input = Image.open(input_path)\n",
        "output = remove(input)\n",
        "output.save(output_path)"
      ],
      "metadata": {
        "colab": {
          "base_uri": "https://localhost:8080/"
        },
        "id": "vT3Il1di-HTW",
        "outputId": "098008c9-35d5-4bc8-ac0a-acc82376450b"
      },
      "execution_count": 4,
      "outputs": [
        {
          "output_type": "stream",
          "name": "stderr",
          "text": [
            "Downloading...\n",
            "From: https://drive.google.com/uc?id=1tCU5MM1LhRgGou5OpmpjBQbSrYIUoYab\n",
            "To: /root/.u2net/u2net.onnx\n",
            "100%|██████████| 176M/176M [00:01<00:00, 136MB/s]\n"
          ]
        }
      ]
    },
    {
      "cell_type": "code",
      "source": [],
      "metadata": {
        "id": "HtNWPNtt-lSf"
      },
      "execution_count": null,
      "outputs": []
    }
  ]
}